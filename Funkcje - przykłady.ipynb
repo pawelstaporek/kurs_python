{
 "cells": [
  {
   "cell_type": "markdown",
   "metadata": {},
   "source": [
    "By zdefiniować funkcję posłużymy się słowem kluczowym\n",
    "    def\n",
    "   \n",
    "po nim następuje nazwa i nawiasy w których można określić jakie argumenty funkcja przyjmuje\n",
    "\n",
    "    def moja_funkcja():\n",
    "        ciało funkcji"
   ]
  },
  {
   "cell_type": "code",
   "execution_count": null,
   "metadata": {},
   "outputs": [],
   "source": [
    "def dodaj(a, b):\n",
    "    return a + b"
   ]
  },
  {
   "cell_type": "code",
   "execution_count": null,
   "metadata": {},
   "outputs": [],
   "source": [
    "dodaj(10, 20)"
   ]
  },
  {
   "cell_type": "markdown",
   "metadata": {},
   "source": [
    "### zad 1\n",
    "\n",
    "Zdefiniu funkcję, która przyjmie jeden parametr - napis. Funkcja zwróci indeksy wielkich liter w tym napisie.\n",
    "Nazwa capital_letters\n",
    "przykład\n",
    "\n",
    "    capital_letters(\"Ala mA\") == [0, 5]"
   ]
  },
  {
   "cell_type": "code",
   "execution_count": 29,
   "metadata": {},
   "outputs": [
    {
     "data": {
      "text/plain": [
       "['__add__',\n",
       " '__class__',\n",
       " '__contains__',\n",
       " '__delattr__',\n",
       " '__dir__',\n",
       " '__doc__',\n",
       " '__eq__',\n",
       " '__format__',\n",
       " '__ge__',\n",
       " '__getattribute__',\n",
       " '__getitem__',\n",
       " '__getnewargs__',\n",
       " '__gt__',\n",
       " '__hash__',\n",
       " '__init__',\n",
       " '__init_subclass__',\n",
       " '__iter__',\n",
       " '__le__',\n",
       " '__len__',\n",
       " '__lt__',\n",
       " '__mod__',\n",
       " '__mul__',\n",
       " '__ne__',\n",
       " '__new__',\n",
       " '__reduce__',\n",
       " '__reduce_ex__',\n",
       " '__repr__',\n",
       " '__rmod__',\n",
       " '__rmul__',\n",
       " '__setattr__',\n",
       " '__sizeof__',\n",
       " '__str__',\n",
       " '__subclasshook__',\n",
       " 'capitalize',\n",
       " 'casefold',\n",
       " 'center',\n",
       " 'count',\n",
       " 'encode',\n",
       " 'endswith',\n",
       " 'expandtabs',\n",
       " 'find',\n",
       " 'format',\n",
       " 'format_map',\n",
       " 'index',\n",
       " 'isalnum',\n",
       " 'isalpha',\n",
       " 'isascii',\n",
       " 'isdecimal',\n",
       " 'isdigit',\n",
       " 'isidentifier',\n",
       " 'islower',\n",
       " 'isnumeric',\n",
       " 'isprintable',\n",
       " 'isspace',\n",
       " 'istitle',\n",
       " 'isupper',\n",
       " 'join',\n",
       " 'ljust',\n",
       " 'lower',\n",
       " 'lstrip',\n",
       " 'maketrans',\n",
       " 'partition',\n",
       " 'replace',\n",
       " 'rfind',\n",
       " 'rindex',\n",
       " 'rjust',\n",
       " 'rpartition',\n",
       " 'rsplit',\n",
       " 'rstrip',\n",
       " 'split',\n",
       " 'splitlines',\n",
       " 'startswith',\n",
       " 'strip',\n",
       " 'swapcase',\n",
       " 'title',\n",
       " 'translate',\n",
       " 'upper',\n",
       " 'zfill']"
      ]
     },
     "execution_count": 29,
     "metadata": {},
     "output_type": "execute_result"
    }
   ],
   "source": [
    "dir(\"\")"
   ]
  },
  {
   "cell_type": "code",
   "execution_count": null,
   "metadata": {},
   "outputs": [],
   "source": [
    "def capital_letters(text):\n",
    "    lista = list()\n",
    "    for i, j in enumerate(text):\n",
    "        if j.isupper():\n",
    "            lista.append(i)\n",
    "    return lista\n",
    "\n",
    "def capital_letters(text):\n",
    "    return [i for i, l in enumerate(text) if l.isupper()]"
   ]
  },
  {
   "cell_type": "code",
   "execution_count": null,
   "metadata": {},
   "outputs": [],
   "source": [
    "dir(int)"
   ]
  },
  {
   "cell_type": "code",
   "execution_count": null,
   "metadata": {},
   "outputs": [],
   "source": [
    "capital_letters(\"Ala mA\")"
   ]
  },
  {
   "cell_type": "code",
   "execution_count": null,
   "metadata": {},
   "outputs": [],
   "source": []
  },
  {
   "cell_type": "code",
   "execution_count": null,
   "metadata": {},
   "outputs": [],
   "source": [
    "assert capital_letters(\"Ala mA\") == [0, 5]"
   ]
  },
  {
   "cell_type": "markdown",
   "metadata": {},
   "source": [
    "## Zad 2\n",
    "\n",
    "Zdefiniuj funkcję mid która przyjmuje jako parametr napis. Jeśli napisa ma środkową literę - to zwróci tę literę. Jeśli napis nie ma środkowej litery (bo ma parzystą liczbę liter) to zwróci pusty napis \"\""
   ]
  },
  {
   "cell_type": "code",
   "execution_count": null,
   "metadata": {},
   "outputs": [],
   "source": [
    "def mid(text):\n",
    "    x = len(text) % 2 \n",
    "    a = int(len(text) / 2)\n",
    "    if x == 0:\n",
    "        return \"\"\n",
    "    return text[a]\n",
    "\n",
    "mid(\"ada\")"
   ]
  },
  {
   "cell_type": "code",
   "execution_count": null,
   "metadata": {},
   "outputs": [],
   "source": [
    "assert mid(\"ada\") == \"d\"\n",
    "assert mid(\"anna\") == \"\""
   ]
  },
  {
   "cell_type": "markdown",
   "metadata": {},
   "source": [
    "## Zad 3\n",
    "\n",
    "Napisz funkcję is_prime, która przyjmie jako argument liczbę i zwróci prawdę jeśli jest to liczba pierwsza. W przeciwnym przypadku zwróci False"
   ]
  },
  {
   "cell_type": "code",
   "execution_count": 6,
   "metadata": {},
   "outputs": [
    {
     "data": {
      "text/plain": [
       "True"
      ]
     },
     "execution_count": 6,
     "metadata": {},
     "output_type": "execute_result"
    }
   ],
   "source": [
    "def is_prime(n):\n",
    "    for i in range(2, int(n ** 0.5)+1):\n",
    "        if n % i == 0:\n",
    "            return False\n",
    "    return True\n",
    "    \n",
    "is_prime(7)"
   ]
  },
  {
   "cell_type": "code",
   "execution_count": null,
   "metadata": {},
   "outputs": [],
   "source": []
  },
  {
   "cell_type": "code",
   "execution_count": 7,
   "metadata": {},
   "outputs": [],
   "source": [
    "assert is_prime(7) == True\n",
    "assert is_prime(15) == False"
   ]
  },
  {
   "cell_type": "code",
   "execution_count": 11,
   "metadata": {},
   "outputs": [
    {
     "data": {
      "text/plain": [
       "[2, 3, 4, 5, 6]"
      ]
     },
     "execution_count": 11,
     "metadata": {},
     "output_type": "execute_result"
    }
   ],
   "source": [
    "n=37\n",
    "list(range(2, int(n ** 0.5)+1))"
   ]
  },
  {
   "cell_type": "markdown",
   "metadata": {},
   "source": [
    "Funkcje mogą przyjmować domyślne parametry"
   ]
  },
  {
   "cell_type": "code",
   "execution_count": 12,
   "metadata": {},
   "outputs": [
    {
     "data": {
      "text/plain": [
       "2"
      ]
     },
     "execution_count": 12,
     "metadata": {},
     "output_type": "execute_result"
    }
   ],
   "source": [
    "def add(x, step=1):\n",
    "    return x + step\n",
    "\n",
    "add(1)"
   ]
  },
  {
   "cell_type": "code",
   "execution_count": 13,
   "metadata": {},
   "outputs": [
    {
     "data": {
      "text/plain": [
       "11"
      ]
     },
     "execution_count": 13,
     "metadata": {},
     "output_type": "execute_result"
    }
   ],
   "source": [
    "add(1, 10)"
   ]
  },
  {
   "cell_type": "markdown",
   "metadata": {},
   "source": [
    "## Zad 4\n",
    "\n",
    "Zdefiniuj funkcję count_between, która będzie zliczała znaki pomiędzy znacznikami. Domyśle znaczniki to <>. Ale można wywołując funkcję poda inne. Znaczniki mogą być zagnieżdżone. Jeśli tak będzie to trzeba policzyć znaki odpowiednio do poziomu zagłębienia.\n",
    "\n",
    "przykłady:\n",
    "\n",
    "    count_between(\"my little <pony>\") == 4\n",
    "    count_between(\"my little <po<ny>>\" == 6\n",
    "    count_between(\"my little <po<ny>>\", \"[\", \"]\") == 0\n",
    "    count_between(\"my little [po[n[y]]]\", \"[\", \"]\") == 7"
   ]
  },
  {
   "cell_type": "code",
   "execution_count": 22,
   "metadata": {},
   "outputs": [],
   "source": [
    "def count_between(text, o=\"<\", c=\">\"):\n",
    "\n",
    "    deep = 0\n",
    "    cnt = 0\n",
    "    for j in text:\n",
    "        if j == o:\n",
    "            deep += 1\n",
    "        elif j == c:\n",
    "            deep -= 1\n",
    "        else:\n",
    "            cnt += deep\n",
    "            \n",
    "    return cnt"
   ]
  },
  {
   "cell_type": "code",
   "execution_count": 23,
   "metadata": {},
   "outputs": [],
   "source": [
    "assert count_between(\"my little <pony>\") == 4\n",
    "assert count_between(\"my little <po<ny>>\") == 6\n",
    "assert count_between(\"my little <po<ny>>\", \"[\", \"]\") == 0\n",
    "assert count_between(\"my little [po[n[y]]]\", \"[\", \"]\") == 7"
   ]
  },
  {
   "cell_type": "markdown",
   "metadata": {},
   "source": [
    "#### args i kwargs czyli rozpakowywanie"
   ]
  },
  {
   "cell_type": "code",
   "execution_count": 26,
   "metadata": {},
   "outputs": [
    {
     "name": "stdout",
     "output_type": "stream",
     "text": [
      "(1, 1, 1, 2, 1)\n"
     ]
    },
    {
     "data": {
      "text/plain": [
       "6"
      ]
     },
     "execution_count": 26,
     "metadata": {},
     "output_type": "execute_result"
    }
   ],
   "source": [
    "def suma(*args):\n",
    "    print(args)\n",
    "    return sum(args)\n",
    "suma(1, 1, 1, 2, 1)"
   ]
  },
  {
   "cell_type": "code",
   "execution_count": 28,
   "metadata": {},
   "outputs": [
    {
     "name": "stdout",
     "output_type": "stream",
     "text": [
      "(1,)\n",
      "(1, 1)\n",
      "(1, 1, 1, 1, 1, 1, 1)\n"
     ]
    }
   ],
   "source": [
    "assert suma(1) == 1\n",
    "assert suma(1, 1) == 2\n",
    "assert suma(1, 1, 1, 1, 1, 1, 1) == 7\n",
    "# itd"
   ]
  },
  {
   "cell_type": "markdown",
   "metadata": {},
   "source": [
    "## Zad 5\n",
    "\n",
    "Napisz funkcję, która przyjmie dowolną ilość napisów i zwróci je\n",
    "połączone znakiem nowej linii (postaraj się użyć metody join z napisu)"
   ]
  },
  {
   "cell_type": "code",
   "execution_count": 47,
   "metadata": {},
   "outputs": [
    {
     "data": {
      "text/plain": [
       "'ala\\nma\\nkota'"
      ]
     },
     "execution_count": 47,
     "metadata": {},
     "output_type": "execute_result"
    }
   ],
   "source": [
    "def concatenate(*args):\n",
    "\n",
    "    return \"\\n\".join(args)\n",
    "\n",
    "concatenate(\"ala\", \"ma\", \"kota\")\n",
    "    "
   ]
  },
  {
   "cell_type": "code",
   "execution_count": 48,
   "metadata": {},
   "outputs": [],
   "source": [
    "assert concatenate(\"ala\", \"ma\", \"kota\") == \"ala\\nma\\nkota\"\n",
    "assert concatenate(\"ala\", \"ma\") == \"ala\\nma\""
   ]
  },
  {
   "cell_type": "code",
   "execution_count": 49,
   "metadata": {},
   "outputs": [],
   "source": [
    "def waga_imion(**kwargs):\n",
    "    print(kwargs)\n",
    "    \n",
    "    sorted_names = sorted(kwargs.items())\n",
    "    "
   ]
  },
  {
   "cell_type": "code",
   "execution_count": 50,
   "metadata": {},
   "outputs": [
    {
     "name": "stdout",
     "output_type": "stream",
     "text": [
      "{'rafal': 5}\n",
      "{'rafal': 5, 'ania': 3, 'kamil': 15}\n"
     ]
    }
   ],
   "source": [
    "waga_imion(rafal=5)\n",
    "waga_imion(rafal=5, ania=3, kamil=15)"
   ]
  },
  {
   "cell_type": "code",
   "execution_count": null,
   "metadata": {},
   "outputs": [],
   "source": [
    "def second(x):\n",
    "    return x[1]\n",
    "\n",
    "sorted([(\"rafal\", 5)])"
   ]
  },
  {
   "cell_type": "markdown",
   "metadata": {},
   "source": [
    "## Zad 6\n",
    "Napisz funkcję formatuj, która przyjmie napis oraz dowolną liczbę argumentów kluczowych typu keyword\n",
    "\n",
    "funkcja szuka wystąpienia kluczy i zamienia je na wartości\n",
    "\n",
    "np:\n",
    "\n",
    "formatuj(\"ala ma kota\", ala=\"Ola\", ma=\"miała\", kota=\"psa\") -> Ola miała psa"
   ]
  },
  {
   "cell_type": "code",
   "execution_count": 55,
   "metadata": {},
   "outputs": [
    {
     "data": {
      "text/plain": [
       "'Ola miała psa'"
      ]
     },
     "execution_count": 55,
     "metadata": {},
     "output_type": "execute_result"
    }
   ],
   "source": [
    "def formatuj(text, **kwargs):\n",
    "    \n",
    "    for key, value in kwargs.items():\n",
    "        text = text.replace(key, value)\n",
    "    return text\n",
    "    \n",
    "formatuj(\"ala ma kota\", ala=\"Ola\", ma=\"miała\", kota=\"psa\")\n",
    "    "
   ]
  },
  {
   "cell_type": "markdown",
   "metadata": {},
   "source": [
    "### zad 7\n",
    "\n",
    "napisz funkcję formatuj, która:\n",
    "\n",
    "1. przyjmie dowolną liczbę tekstów, złącza je.\n",
    "2. przyjmie dowolną liczbę argumentów keyword.\n",
    "3. funkcja zamienia w tekście $klucz na wartość i zwraca sformatowany tekst\n",
    "\n",
    "np:\n",
    "\n",
    "    formatuj(\"koszt $cena PLN\", \"kwota $brutto PLN\", cena=200, brutto=246)"
   ]
  },
  {
   "cell_type": "code",
   "execution_count": 57,
   "metadata": {},
   "outputs": [
    {
     "data": {
      "text/plain": [
       "'koszt 200 PLN kwota 246 PLN'"
      ]
     },
     "execution_count": 57,
     "metadata": {},
     "output_type": "execute_result"
    }
   ],
   "source": [
    "def formatuj(*args, **kwargs):\n",
    "    \n",
    "    text = \" \".join(args)\n",
    "    for key, value in kwargs.items():\n",
    "        text = text.replace(\"$\"+key, str(value))\n",
    "    return text\n",
    "    \n",
    "formatuj(\"koszt $cena PLN\", \"kwota $brutto PLN\", cena=200, brutto=246)\n",
    "    "
   ]
  },
  {
   "cell_type": "code",
   "execution_count": null,
   "metadata": {},
   "outputs": [],
   "source": []
  }
 ],
 "metadata": {
  "kernelspec": {
   "display_name": "Python 3",
   "language": "python",
   "name": "python3"
  },
  "language_info": {
   "codemirror_mode": {
    "name": "ipython",
    "version": 3
   },
   "file_extension": ".py",
   "mimetype": "text/x-python",
   "name": "python",
   "nbconvert_exporter": "python",
   "pygments_lexer": "ipython3",
   "version": "3.7.6"
  }
 },
 "nbformat": 4,
 "nbformat_minor": 4
}
